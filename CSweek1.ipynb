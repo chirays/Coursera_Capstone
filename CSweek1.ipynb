{
 "cells": [
  {
   "cell_type": "markdown",
   "metadata": {},
   "source": [
    "# Introduction / Business Problem :\n",
    "\n",
    "The dataset we are going to use in this project is about collisions in some years in Seattle. As car accidents are increasing day-by-day, there is a need to predict a model which can detect car accident severity based on parameters like weather, road condition, visibility condition, speed, etc., If an eddective model is built which can detect accident severity, it can alert drivers to be more careful and cautious and thus avoid accidents. "
   ]
  },
  {
   "cell_type": "markdown",
   "metadata": {},
   "source": [
    "# Data Description :\n",
    "\n",
    "The Dataset we are going to use here is consists of  194673 rows as the incidents and 38 columns as the attributes. The \"SEVERITYCODE\" column has the values of 1 and 2 where 1 is prop damage and 2 is injury. Similarly, there are attributes like road condition (ROADCOND), light condition (LIGHTCOND), etc., which can help us in building a model to predict the accidents. \n",
    "\n",
    "After understanding the business problem, we need to understand the data. Here, the libraries we are mainly going to use are Pandas, Seaborn, Numpy and Matplotlib. After we have imported the dataset, we need to check for the rows and columns and their values. In simple terms, we need to see the characteristics of the dataset to understand it better and make it perfectly balanced as there might me some rows having empty or null values which can hamper the test results. \n",
    "\n",
    "We will be using supervised Machine Learning models to predict the values. The split is as follows:\n",
    "\n",
    "-> We can use *K-Nearest Neighbors* as it can help predict the SEVERITYCODE value.\n",
    "-> We can use *Descision Tree* model when it comes to predicting the outcome of the weather as this model analyzes all the conditions and then comes up with a decision.\n",
    "-> We can use *Logistic Regression* as out dataset only has two values for the SEVERITYCODE and hence, it will be the best approach to use logistic Regression. \n",
    "\n",
    "Now, as we have a brief understanding of the data and what we have to do, let's move to the code where each process is explained.\n"
   ]
  },
  {
   "cell_type": "code",
   "execution_count": null,
   "metadata": {},
   "outputs": [],
   "source": []
  }
 ],
 "metadata": {
  "kernelspec": {
   "display_name": "Python 3",
   "language": "python",
   "name": "python3"
  },
  "language_info": {
   "codemirror_mode": {
    "name": "ipython",
    "version": 3
   },
   "file_extension": ".py",
   "mimetype": "text/x-python",
   "name": "python",
   "nbconvert_exporter": "python",
   "pygments_lexer": "ipython3",
   "version": "3.7.6"
  }
 },
 "nbformat": 4,
 "nbformat_minor": 4
}
